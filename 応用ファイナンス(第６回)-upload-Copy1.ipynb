{
 "cells": [
  {
   "cell_type": "markdown",
   "id": "49cf9f80-b4dd-44ea-9b7e-54385982ff4f",
   "metadata": {},
   "source": [
    "# 予備知識"
   ]
  },
  {
   "cell_type": "markdown",
   "id": "56e85f80-5917-468e-9d99-e0e4a5536500",
   "metadata": {},
   "source": [
    "## RStudioの画面構成"
   ]
  },
  {
   "cell_type": "markdown",
   "id": "838cc7e2-4295-4d44-85dc-5c06b2e503ce",
   "metadata": {},
   "source": [
    "人によって多少異なりますが、RStudioを起動した画面は以下のようになっています。"
   ]
  },
  {
   "cell_type": "markdown",
   "id": "d174974b-85d8-4c77-82b5-86fca421de2e",
   "metadata": {},
   "source": [
    "<img src=\"https://lh3.googleusercontent.com/sitesv/AICyYdZXhO-AH_wsJvzdU8ZZi1EgYkkNQ8pUpMKOzGYWBG3dKeJ5OiqaTgNjm0LYrKn8Pyc6Wi-Uyg6z5iR_4KSftGFfcpXIpX4U-ipnBiKm8f7KIshZL1LG0YBZlTJM10y4p6C-55hO5SGXZBMrp9X7pETqHlq-DRD1s9LxbBEgHdfPmNHqFHg9PAUHd8m6ruvGaQsYsoeBazpvX7mZwvgHfz3eJedhA1Qc_Btl4Ns=w1280\" alt=\"fig1\" width=\"500\">"
   ]
  },
  {
   "cell_type": "markdown",
   "id": "1cb64117-61e5-443b-a578-931a13c44204",
   "metadata": {},
   "source": [
    "RStudioは通常4つのウィンドウ（ペーンと呼びます）に分割されます。  \n",
    "左上のペーンはRStudioを動かすためのコードを書く場所です。表示されていなければ、左上の緑の＋をクリックし、「R Script」を選択してください。  \n",
    "左下のペーンはコンソールと呼ばれる、コードの実行結果を表示する場所です。ここに直接コードを書くこともできますが、コードは保存されません。  \n",
    "右上のペーンは「オブジェクト」が表示される場所です。  \n",
    "右下のペーンはファイルやパッケージなどが表示される場所です。  "
   ]
  },
  {
   "cell_type": "markdown",
   "id": "3046ae8f-ea54-4093-8085-ce01ea0fdcff",
   "metadata": {},
   "source": [
    "## R スクリプトの作成"
   ]
  },
  {
   "cell_type": "markdown",
   "id": "5bca327b-1474-467f-8773-240b2af5b30b",
   "metadata": {},
   "source": [
    "コンソールに計算内容を打ち込んで答えを確認するという方法は、数行程度の短い簡単な計算をする分には便利です。  \n",
    "しかし、実際のデータ分析の際にはもっと多くの計算を続けて行う必要があり、プログラム全体の行数が増えます。  \n",
    "分析のたびに毎回コンソールに全ての命令を記入するのは面倒ですし、どのような命令をどのような順序で打ち込んだかという記録が残らないので、  \n",
    "行ったデータ分析の内容を後から再現することもできません。  \n",
    "そこで、R を使って統計分析をする際は、スクリプトファイルに命令をまとめて記述し、実行するという方法をとります。"
   ]
  },
  {
   "cell_type": "markdown",
   "id": "fdfe8755-b854-44d2-a7ff-f2519e010957",
   "metadata": {},
   "source": [
    "R Scriptファイルは左上の+マークのボタンを押して表示される[R Script]をクリックすると作成できます。  \n",
    "ショートカットコマンドとして`ctrl + shift + N`（Macでは`command + shift + N`）が用意されています。  \n",
    "新しいR Scriptファイルを作成すると左上に編集用のタブが表示されます。"
   ]
  },
  {
   "cell_type": "markdown",
   "id": "d2e43b3b-1018-43c1-8827-37281d245a51",
   "metadata": {},
   "source": [
    "<img src=\"https://lh3.googleusercontent.com/sitesv/AICyYdYAHRCf2KorTGn7jZm8kkT9L-HxQDnNUl3IpkNtp5fzDbDdzwArvZnrnAfMfQCVy0gnqM8C6dTI9gOMaxRgdvu_2FGjFmRoixi0hDa-SmP_SnXHeCmm2Kkg46J3Z07_ZYYyGua_vDapg4K6JR_-cqmklKkTy6_zqhmUbxR1NzhHPonhbtjmdi8LifkEGtSq2cdgJM_1JZ_ljoJ3OELWzh6QuJA4qsh06BktvJY=w1280\" alt=\"fig2\" width=\"500\">"
   ]
  },
  {
   "cell_type": "markdown",
   "id": "908f30d1-a1be-4616-958c-b24274b11861",
   "metadata": {},
   "source": [
    "## R スクリプトの利用"
   ]
  },
  {
   "cell_type": "markdown",
   "id": "6c84ecd8-bb53-4459-8bda-7445214d039c",
   "metadata": {},
   "source": [
    "### コードの入力"
   ]
  },
  {
   "cell_type": "markdown",
   "id": "a6b4e663-8a98-49f1-9a45-e6bd22aecab8",
   "metadata": {},
   "source": [
    "それでは、実際に操作してみましょう。Rスクリプトに`1 + 1`と打ってみてください。"
   ]
  },
  {
   "cell_type": "markdown",
   "id": "f9f4f1d8-c82d-49eb-acc9-d80fad14b128",
   "metadata": {},
   "source": [
    "<img src=\"https://lh3.googleusercontent.com/sitesv/AICyYdYOQ1F6QULcObo1lkX-_iYLj_lwjRD9Rs0nf5ONPxyIu6m9y4pmI9VJe--CrcP6QkpTL074e30X5MeM601q-imi9VOl3KzPpJy3sWSDaO13baIAXG_SayZmQ6BtLIgDWGaa10mnQvHkOGGKcqC9e2UHgjTKqMlnghMs3gpCzf2fOPE--8nmSbIWbXPKXSXF5S_AaDGf-y8qwYWXHjHkKDcR7IFr1c-K9KRT=w1280\" alt=\"fi3\" width=\"400\">"
   ]
  },
  {
   "cell_type": "markdown",
   "id": "1a3a0c37-7f5d-406a-bf79-57ce4c63fb00",
   "metadata": {},
   "source": [
    "### コードの実行\n",
    "これが1行のコードです。この行にカーソルを合わせた状態で、Windowsでは `Ctrl + Enter`、Macでは `Command + Enter` を押すと、コードが実行されます。  \n",
    "（スクリプト右上の「Run」ボタンを押しても実行できます。）  \n",
    "すると、コンソールに結果が表示されました。> 1 + 1は実行したコードを表しています。 [1]は行番号を表します。その右側が結果です。\n",
    "<img src=\"https://lh3.googleusercontent.com/sitesv/AICyYdZkSEaE8mIke3Tg7yqjtqt-6A3EQO63PUpCqwd2U5BQCb8aXa2gHxqdnfC14rh7bqWtp4KtQ6ba7wlCyEF0_0dalgap1V961tjNBgyyyTtrOu5shx1A95PTueLsmF-V8adcoxxd3nDKLSAtvREQIdrM8VHsZv1w4NNBka9EvFHLYdlovE1w0pymWplmjWA3aGlwZsmuMBkMur_57gX4A6kdVHMbuc7EaZzp=w1280\" alt=\"fi4\" width=\"200\">"
   ]
  },
  {
   "cell_type": "markdown",
   "id": "e47e82ba-6152-4dea-9824-7802098aba25",
   "metadata": {},
   "source": [
    "もう少しコードを書いてみましょう。`3 - 1` ` 2 * 3` ` 6 / 2`と3行のコードを書いてください。  \n",
    "これらのセルをまとめて選択し、`Ctrl + Enter`（Macでは `Command + Enter`） を押すと、一括して実行することができます。"
   ]
  },
  {
   "cell_type": "markdown",
   "id": "66ee70c8-ecd4-4c5e-8f55-679dadb835d1",
   "metadata": {},
   "source": [
    "<img src=\"https://lh3.googleusercontent.com/sitesv/AICyYdZdF3qXXxaPn3XGVoSuUCTYKkfq3byuTDpWT4iJNnC-2GIKhSYvm2dL3P-IyusBJwEXSNeJ6T3b86YtUy6cviU50mlUztdfDMNooFFZNG2os2UC2An168lZCnKpS2ee6iphHZPxXhj1K2RlEYw-w5CQmKDNI4csz671sruxAHEk3-M1l-5RUx_2ldwwsgEXQ-jONB6CE8bK-cWHiIXeVsg14HSO8NNmlK-IhQk=w1280\" alt=\"fi5\" width=\"300\">"
   ]
  },
  {
   "cell_type": "markdown",
   "id": "66048bf8-8ab6-40b1-b4ad-335e3d2da64e",
   "metadata": {},
   "source": [
    "すると、それぞれの計算結果が表示されました。  \n",
    "スクリプトにコードを書く→実行してコンソールで結果を確認、という一連の作業を繰り返して慣れていきましょう。"
   ]
  },
  {
   "cell_type": "markdown",
   "id": "66d840c6-8a67-47cd-b519-b3f6ad8e36da",
   "metadata": {},
   "source": [
    "<img src=\"https://lh3.googleusercontent.com/sitesv/AICyYdaDe9rOUbDPeaOkW1aUNQNLiX3Eb37uoWkHLcvrNrvL0tfwIZypbumenW9ZbAp1zntxQUl0M9pPczcPYNnUMA8mRhvRnd6Uf5FhKw4X23hII_QLmEfcmh26Y4xIzXttBa1RVV1k57sVx4DkfqEr7Okd1qhCAJsVLi916UFL6Y9BL_jWxXGLug3h7hkAlrYSAqoulmG7RWQMfdQP7w-SGqYlVoxbGNQ_ujEY=w1280\" alt=\"fi6\" width=\"200\">"
   ]
  },
  {
   "cell_type": "markdown",
   "id": "4f2fca77-6ac2-405d-be00-1b1d02cd2d7d",
   "metadata": {},
   "source": [
    "## R スクリプトの保存"
   ]
  },
  {
   "cell_type": "markdown",
   "id": "171bff04-e0a3-4bbf-9249-d5dd27aac2f3",
   "metadata": {},
   "source": [
    "スクリプトはWindowsは`Ctrl + S`、Macは`Command + S`で保存することができます。  \n",
    "(あるいは、メニューバーから File > Save を選び、適当な名前を付けて、パソコン内の好きな場所に保存します。  \n",
    "パソコン内の好きな場所に新しく R 用のフォルダを作って、そこに保存するようにしましょう。)  \n",
    "スクリプトを保存しておけば、次回に書き直す必要はありません。  \n",
    "**注意：本授業の課題は、この R スクリプト上で作成・完成させ、保存したうえで提出する必要があります。**\n",
    "<img src=\"https://lh3.googleusercontent.com/sitesv/AICyYdbx43rh38kmvYtORmgPa1wGzlAVpz7hZyS8_1Uhrn12_0rpN9eTLltOsjubHSsnUffBhheylMHAjmGGAYG_fswGaecHhULqV3QY3uKOSp7dvb5Wvp_GzVYctjoFtNqcozWSwdPzsG9WngrNhGo5bS0M-zMw6vv1be1nT3AQgOcaQVX9vtapvTePfRfLqbN1VXzpYamm7iDaaHyT2SEk2eDGeE4yPafn6q4Ltg4=w1280\" alt=\"fi7\" width=\"400\">"
   ]
  },
  {
   "cell_type": "markdown",
   "id": "5c989572-3fe1-40ab-8ae0-b1cb6ae64bc1",
   "metadata": {},
   "source": [
    "保存が完了すると、R スクリプトは.R ファイルとして保存されます。（**課題提出するときはこのファイルを提出してください**）\n",
    "<img src=\"https://lh3.googleusercontent.com/sitesv/AICyYdaPn7pyXVVACajlp5gNcMInPU516c9pIIpfv6RlSFM4tTkaEuFvkTrn30IqVzux2itZUpOIDUp0psG39Z6jYWgaaTrpnOIUrO-JxxrbT1I_Fha64xDFfW0aTj8LZ86BqP92zEFP8BBH63jyZ4gvUrUa4mLbndokbrkQ2UomHdeIDlW2kROduousBHSUiuhzdMUKyQV_m3dHQ8xuS4e3_M7dX2Ww2Jbu1ltyNko=w1280\" alt=\"fi8\" width=\"200\">"
   ]
  },
  {
   "cell_type": "markdown",
   "id": "079dc715-d526-4330-99c6-8c5c24ac9f80",
   "metadata": {},
   "source": [
    "# 1. 変数とデータ"
   ]
  },
  {
   "cell_type": "markdown",
   "id": "ded336ef-4f55-4b38-8bd3-a332e1463fd1",
   "metadata": {},
   "source": [
    "## 1.1 データ"
   ]
  },
  {
   "cell_type": "markdown",
   "id": "5b4707c6-82c4-4c94-9d3c-cd873340bf7e",
   "metadata": {},
   "source": [
    "#### データ型\n",
    "Rでは、データには数値だけでなく、文字などさまざまなデータ型が存在します。  \n",
    "以下では、その中でも代表的な3つを紹介します。  \n",
    "* 数値型（numeric）\n",
    "* 文字列型（character）\n",
    "* 論理値型（logical）"
   ]
  },
  {
   "cell_type": "markdown",
   "id": "3cf4b256-790a-4739-b71d-ddac7bc65017",
   "metadata": {},
   "source": [
    "### 1.1.1 数値型（numeric）"
   ]
  },
  {
   "cell_type": "markdown",
   "id": "5757973f-31d9-403a-82ff-d38224b88290",
   "metadata": {},
   "source": [
    "数値型 (numeric) は実数値のデータのことです。"
   ]
  },
  {
   "cell_type": "markdown",
   "id": "3336bcc0-f698-48ac-ae39-81418be3f82b",
   "metadata": {},
   "source": [
    "`print()`関数を使うと、入力したデータをディスプレイ上に表示させることができます。"
   ]
  },
  {
   "cell_type": "code",
   "execution_count": 4,
   "id": "79c17089-97a8-49ef-8bcc-a649c5a6606d",
   "metadata": {},
   "outputs": [
    {
     "name": "stdout",
     "output_type": "stream",
     "text": [
      "[1] 1\n",
      "[1] -2.5\n"
     ]
    }
   ],
   "source": [
    "print(1)\n",
    "print(-2.5)"
   ]
  },
  {
   "cell_type": "code",
   "execution_count": 43,
   "id": "be4ad045-e612-4c46-8774-02293a8d9ad8",
   "metadata": {},
   "outputs": [
    {
     "data": {
      "text/html": [
       "1"
      ],
      "text/latex": [
       "1"
      ],
      "text/markdown": [
       "1"
      ],
      "text/plain": [
       "[1] 1"
      ]
     },
     "metadata": {},
     "output_type": "display_data"
    },
    {
     "data": {
      "text/html": [
       "-2"
      ],
      "text/latex": [
       "-2"
      ],
      "text/markdown": [
       "-2"
      ],
      "text/plain": [
       "[1] -2"
      ]
     },
     "metadata": {},
     "output_type": "display_data"
    },
    {
     "data": {
      "text/html": [
       "2.5"
      ],
      "text/latex": [
       "2.5"
      ],
      "text/markdown": [
       "2.5"
      ],
      "text/plain": [
       "[1] 2.5"
      ]
     },
     "metadata": {},
     "output_type": "display_data"
    },
    {
     "data": {
      "text/html": [
       "3.14159265358979"
      ],
      "text/latex": [
       "3.14159265358979"
      ],
      "text/markdown": [
       "3.14159265358979"
      ],
      "text/plain": [
       "[1] 3.141593"
      ]
     },
     "metadata": {},
     "output_type": "display_data"
    }
   ],
   "source": [
    "1\n",
    "-2\n",
    "2.5\n",
    "pi #円周率"
   ]
  },
  {
   "cell_type": "markdown",
   "id": "ea08ee81-3354-430d-a3f3-f0b8094fc0fc",
   "metadata": {},
   "source": [
    "`class()`関数を使うと、オブジェクトのデータ型を確認することができます。"
   ]
  },
  {
   "cell_type": "code",
   "execution_count": 44,
   "id": "2f7b406f-be6f-47b2-8fb5-d957a58ae8c4",
   "metadata": {},
   "outputs": [
    {
     "data": {
      "text/html": [
       "'numeric'"
      ],
      "text/latex": [
       "'numeric'"
      ],
      "text/markdown": [
       "'numeric'"
      ],
      "text/plain": [
       "[1] \"numeric\""
      ]
     },
     "metadata": {},
     "output_type": "display_data"
    },
    {
     "data": {
      "text/html": [
       "'numeric'"
      ],
      "text/latex": [
       "'numeric'"
      ],
      "text/markdown": [
       "'numeric'"
      ],
      "text/plain": [
       "[1] \"numeric\""
      ]
     },
     "metadata": {},
     "output_type": "display_data"
    },
    {
     "data": {
      "text/html": [
       "'numeric'"
      ],
      "text/latex": [
       "'numeric'"
      ],
      "text/markdown": [
       "'numeric'"
      ],
      "text/plain": [
       "[1] \"numeric\""
      ]
     },
     "metadata": {},
     "output_type": "display_data"
    },
    {
     "data": {
      "text/html": [
       "'numeric'"
      ],
      "text/latex": [
       "'numeric'"
      ],
      "text/markdown": [
       "'numeric'"
      ],
      "text/plain": [
       "[1] \"numeric\""
      ]
     },
     "metadata": {},
     "output_type": "display_data"
    }
   ],
   "source": [
    "class(1)\n",
    "class(-2)\n",
    "class(2.5)\n",
    "class(pi)"
   ]
  },
  {
   "cell_type": "markdown",
   "id": "18c8fd3a-d2b0-4a9e-9023-549c62cfb89e",
   "metadata": {},
   "source": [
    "数値型のデータに対しては、四則演算などの計算を行うことができます。"
   ]
  },
  {
   "cell_type": "code",
   "execution_count": 8,
   "id": "6e645e88-622b-478e-9882-c7a9046574d7",
   "metadata": {},
   "outputs": [
    {
     "data": {
      "text/html": [
       "2"
      ],
      "text/latex": [
       "2"
      ],
      "text/markdown": [
       "2"
      ],
      "text/plain": [
       "[1] 2"
      ]
     },
     "metadata": {},
     "output_type": "display_data"
    },
    {
     "data": {
      "text/html": [
       "-1"
      ],
      "text/latex": [
       "-1"
      ],
      "text/markdown": [
       "-1"
      ],
      "text/plain": [
       "[1] -1"
      ]
     },
     "metadata": {},
     "output_type": "display_data"
    },
    {
     "data": {
      "text/html": [
       "2"
      ],
      "text/latex": [
       "2"
      ],
      "text/markdown": [
       "2"
      ],
      "text/plain": [
       "[1] 2"
      ]
     },
     "metadata": {},
     "output_type": "display_data"
    },
    {
     "data": {
      "text/html": [
       "2.4"
      ],
      "text/latex": [
       "2.4"
      ],
      "text/markdown": [
       "2.4"
      ],
      "text/plain": [
       "[1] 2.4"
      ]
     },
     "metadata": {},
     "output_type": "display_data"
    },
    {
     "data": {
      "text/html": [
       "2.5"
      ],
      "text/latex": [
       "2.5"
      ],
      "text/markdown": [
       "2.5"
      ],
      "text/plain": [
       "[1] 2.5"
      ]
     },
     "metadata": {},
     "output_type": "display_data"
    }
   ],
   "source": [
    "1+1 #足し算\n",
    "6-7　#引き算　\n",
    "1*2 #掛け算\n",
    "6/2.5 #割り算\n",
    "1+(1/2*3) #組み合わせ"
   ]
  },
  {
   "cell_type": "code",
   "execution_count": 42,
   "id": "dce78b1e-8151-4e6d-a342-bc5c0a7dc826",
   "metadata": {},
   "outputs": [
    {
     "data": {
      "text/html": [
       "2"
      ],
      "text/latex": [
       "2"
      ],
      "text/markdown": [
       "2"
      ],
      "text/plain": [
       "[1] 2"
      ]
     },
     "metadata": {},
     "output_type": "display_data"
    },
    {
     "data": {
      "text/html": [
       "8"
      ],
      "text/latex": [
       "8"
      ],
      "text/markdown": [
       "8"
      ],
      "text/plain": [
       "[1] 8"
      ]
     },
     "metadata": {},
     "output_type": "display_data"
    },
    {
     "data": {
      "text/html": [
       "7.38905609893065"
      ],
      "text/latex": [
       "7.38905609893065"
      ],
      "text/markdown": [
       "7.38905609893065"
      ],
      "text/plain": [
       "[1] 7.389056"
      ]
     },
     "metadata": {},
     "output_type": "display_data"
    },
    {
     "data": {
      "text/html": [
       "0.693147180559945"
      ],
      "text/latex": [
       "0.693147180559945"
      ],
      "text/markdown": [
       "0.693147180559945"
      ],
      "text/plain": [
       "[1] 0.6931472"
      ]
     },
     "metadata": {},
     "output_type": "display_data"
    },
    {
     "data": {
      "text/html": [
       "0.301029995663981"
      ],
      "text/latex": [
       "0.301029995663981"
      ],
      "text/markdown": [
       "0.301029995663981"
      ],
      "text/plain": [
       "[1] 0.30103"
      ]
     },
     "metadata": {},
     "output_type": "display_data"
    },
    {
     "data": {
      "text/html": [
       "1"
      ],
      "text/latex": [
       "1"
      ],
      "text/markdown": [
       "1"
      ],
      "text/plain": [
       "[1] 1"
      ]
     },
     "metadata": {},
     "output_type": "display_data"
    }
   ],
   "source": [
    "sqrt(4) #平方根\n",
    "2^3　#冪乗\n",
    "exp(2) #e^2\n",
    "log(2) #2の自然対数（底がeの対数）\n",
    "log(2,base=10) #2の10を底とする対数\n",
    "abs(2-3) #絶対値"
   ]
  },
  {
   "cell_type": "markdown",
   "id": "3ddd333f-98fd-4ac5-98b7-ca32ff57007b",
   "metadata": {},
   "source": [
    "四捨五入をする`round()`という関数では小数点の何桁目で計算するかを指定できます。"
   ]
  },
  {
   "cell_type": "code",
   "execution_count": 17,
   "id": "4043ab47-a9f4-4c4f-9d06-a2baff76a8f0",
   "metadata": {},
   "outputs": [
    {
     "data": {
      "text/html": [
       "3"
      ],
      "text/latex": [
       "3"
      ],
      "text/markdown": [
       "3"
      ],
      "text/plain": [
       "[1] 3"
      ]
     },
     "metadata": {},
     "output_type": "display_data"
    },
    {
     "data": {
      "text/html": [
       "3.1"
      ],
      "text/latex": [
       "3.1"
      ],
      "text/markdown": [
       "3.1"
      ],
      "text/plain": [
       "[1] 3.1"
      ]
     },
     "metadata": {},
     "output_type": "display_data"
    },
    {
     "data": {
      "text/html": [
       "3.142"
      ],
      "text/latex": [
       "3.142"
      ],
      "text/markdown": [
       "3.142"
      ],
      "text/plain": [
       "[1] 3.142"
      ]
     },
     "metadata": {},
     "output_type": "display_data"
    },
    {
     "data": {
      "text/html": [
       "7.39"
      ],
      "text/latex": [
       "7.39"
      ],
      "text/markdown": [
       "7.39"
      ],
      "text/plain": [
       "[1] 7.39"
      ]
     },
     "metadata": {},
     "output_type": "display_data"
    }
   ],
   "source": [
    "round(3.1415926,0)\n",
    "round(3.1415926,1)\n",
    "round(3.1415926,3)\n",
    "round(exp(2),2)"
   ]
  },
  {
   "cell_type": "markdown",
   "id": "1fcc17ea-b9c9-4e89-be41-212bd5d9fad3",
   "metadata": {},
   "source": [
    "### <span style=\"color:red\"> 練習1 </span>\n",
    "次の式をRで計算しなさい。  \n",
    "結果は小数点第2位まで四捨五入して表示しなさい。"
   ]
  },
  {
   "cell_type": "markdown",
   "id": "7b17165d-d6c1-47a3-89a4-426494ac57cc",
   "metadata": {},
   "source": [
    "$$\n",
    "4e^3 + \\frac{\\sqrt[3]{\\log e^{(2 + 3)}}}{4^2 + 5^3}\n",
    "$$\n"
   ]
  },
  {
   "cell_type": "markdown",
   "id": "9e0e8ec8-f58e-4068-9e79-6a0820fa74b4",
   "metadata": {},
   "source": [
    "### 1.1.2 文字列型 (character)  \n",
    "文字列型 (character) は文字データを表現するのに使います。  \n",
    "文字を引用符で囲うことで作成します。"
   ]
  },
  {
   "cell_type": "code",
   "execution_count": 28,
   "id": "5d127a02-99ec-4c9f-b43b-e3a912441d27",
   "metadata": {},
   "outputs": [
    {
     "data": {
      "text/html": [
       "'tokyo univeristy of science'"
      ],
      "text/latex": [
       "'tokyo univeristy of science'"
      ],
      "text/markdown": [
       "'tokyo univeristy of science'"
      ],
      "text/plain": [
       "[1] \"tokyo univeristy of science\""
      ]
     },
     "metadata": {},
     "output_type": "display_data"
    },
    {
     "name": "stdout",
     "output_type": "stream",
     "text": [
      "[1] \"schoool of management\"\n"
     ]
    },
    {
     "data": {
      "text/html": [
       "'character'"
      ],
      "text/latex": [
       "'character'"
      ],
      "text/markdown": [
       "'character'"
      ],
      "text/plain": [
       "[1] \"character\""
      ]
     },
     "metadata": {},
     "output_type": "display_data"
    }
   ],
   "source": [
    "\"tokyo univeristy of science\"\n",
    "print(\"schoool of management\")\n",
    "class(\"hello, world\")"
   ]
  },
  {
   "cell_type": "markdown",
   "id": "84cdbdd8-dafb-4f91-8fa5-f99eadf5f40d",
   "metadata": {},
   "source": [
    "引用符で囲えば数字でも文字列型になります。（文字列型になったら、計算できません）  \n",
    "文字列として日本語を使うこともできます。"
   ]
  },
  {
   "cell_type": "code",
   "execution_count": 49,
   "id": "a602b045-189a-47ee-845b-ff3c81d801bb",
   "metadata": {},
   "outputs": [
    {
     "data": {
      "text/html": [
       "2"
      ],
      "text/latex": [
       "2"
      ],
      "text/markdown": [
       "2"
      ],
      "text/plain": [
       "[1] 2"
      ]
     },
     "metadata": {},
     "output_type": "display_data"
    },
    {
     "ename": "ERROR",
     "evalue": "Error in \"1\" + \"2\": 二項演算子の引数が数値ではありません\n",
     "output_type": "error",
     "traceback": [
      "Error in \"1\" + \"2\": 二項演算子の引数が数値ではありません\nTraceback:\n"
     ]
    }
   ],
   "source": [
    "1+1\n",
    "\"1\"+\"2\""
   ]
  },
  {
   "cell_type": "code",
   "execution_count": 48,
   "id": "e8c9ccce-51ff-495a-82bb-d7c4cedad472",
   "metadata": {},
   "outputs": [
    {
     "data": {
      "text/html": [
       "'東京理科大学'"
      ],
      "text/latex": [
       "'東京理科大学'"
      ],
      "text/markdown": [
       "'東京理科大学'"
      ],
      "text/plain": [
       "[1] \"東京理科大学\""
      ]
     },
     "metadata": {},
     "output_type": "display_data"
    },
    {
     "data": {
      "text/html": [
       "'応用ファイナンス'"
      ],
      "text/latex": [
       "'応用ファイナンス'"
      ],
      "text/markdown": [
       "'応用ファイナンス'"
      ],
      "text/plain": [
       "[1] \"応用ファイナンス\""
      ]
     },
     "metadata": {},
     "output_type": "display_data"
    }
   ],
   "source": [
    "\"東京理科大学\"\n",
    "\"応用ファイナンス\""
   ]
  },
  {
   "cell_type": "markdown",
   "id": "f311da27-b6eb-4b57-9428-6dd8bb56df64",
   "metadata": {},
   "source": [
    "### 1.1.3 論理値型 (logical)  \n",
    "論理値型 (logical) は真（TRUE）か偽（FALSE）のどちらかの値のみをとるデータです。  \n",
    "TRUE と FALSE はすべて大文字で書く必要があります。また、\"で囲ってはいけません。"
   ]
  },
  {
   "cell_type": "code",
   "execution_count": 30,
   "id": "5c2df780-74c8-4461-8bec-712180a020c9",
   "metadata": {},
   "outputs": [
    {
     "data": {
      "text/html": [
       "TRUE"
      ],
      "text/latex": [
       "TRUE"
      ],
      "text/markdown": [
       "TRUE"
      ],
      "text/plain": [
       "[1] TRUE"
      ]
     },
     "metadata": {},
     "output_type": "display_data"
    },
    {
     "data": {
      "text/html": [
       "'logical'"
      ],
      "text/latex": [
       "'logical'"
      ],
      "text/markdown": [
       "'logical'"
      ],
      "text/plain": [
       "[1] \"logical\""
      ]
     },
     "metadata": {},
     "output_type": "display_data"
    },
    {
     "data": {
      "text/html": [
       "FALSE"
      ],
      "text/latex": [
       "FALSE"
      ],
      "text/markdown": [
       "FALSE"
      ],
      "text/plain": [
       "[1] FALSE"
      ]
     },
     "metadata": {},
     "output_type": "display_data"
    },
    {
     "data": {
      "text/html": [
       "'logical'"
      ],
      "text/latex": [
       "'logical'"
      ],
      "text/markdown": [
       "'logical'"
      ],
      "text/plain": [
       "[1] \"logical\""
      ]
     },
     "metadata": {},
     "output_type": "display_data"
    }
   ],
   "source": [
    "TRUE\n",
    "class(TRUE)\n",
    "FALSE\n",
    "class(FALSE)"
   ]
  },
  {
   "cell_type": "markdown",
   "id": "32fc870e-ba47-4a05-807e-76ddc22632f8",
   "metadata": {},
   "source": [
    "TRUEとFALSEの代わりにTとFと書くこともできます。"
   ]
  },
  {
   "cell_type": "code",
   "execution_count": 33,
   "id": "8c358c6c-b329-4c09-b2d8-efcb9f546e05",
   "metadata": {},
   "outputs": [
    {
     "data": {
      "text/html": [
       "TRUE"
      ],
      "text/latex": [
       "TRUE"
      ],
      "text/markdown": [
       "TRUE"
      ],
      "text/plain": [
       "[1] TRUE"
      ]
     },
     "metadata": {},
     "output_type": "display_data"
    },
    {
     "data": {
      "text/html": [
       "'logical'"
      ],
      "text/latex": [
       "'logical'"
      ],
      "text/markdown": [
       "'logical'"
      ],
      "text/plain": [
       "[1] \"logical\""
      ]
     },
     "metadata": {},
     "output_type": "display_data"
    },
    {
     "data": {
      "text/html": [
       "FALSE"
      ],
      "text/latex": [
       "FALSE"
      ],
      "text/markdown": [
       "FALSE"
      ],
      "text/plain": [
       "[1] FALSE"
      ]
     },
     "metadata": {},
     "output_type": "display_data"
    },
    {
     "data": {
      "text/html": [
       "'logical'"
      ],
      "text/latex": [
       "'logical'"
      ],
      "text/markdown": [
       "'logical'"
      ],
      "text/plain": [
       "[1] \"logical\""
      ]
     },
     "metadata": {},
     "output_type": "display_data"
    }
   ],
   "source": [
    "T\n",
    "class(T)\n",
    "F\n",
    "class(F)"
   ]
  },
  {
   "cell_type": "markdown",
   "id": "80f85cbd-d1ff-4d62-abfc-653ffb6d72bf",
   "metadata": {},
   "source": [
    "論理値型は、あるオブジェクトが特定のデータ型であるかどうかを判定する際に使われます。  \n",
    "たとえば、`is.numeric()` という関数は、数値型であるかどうかを判定します。"
   ]
  },
  {
   "cell_type": "code",
   "execution_count": 53,
   "id": "31e8afad-953f-4c42-889b-ec113945ee09",
   "metadata": {},
   "outputs": [
    {
     "data": {
      "text/html": [
       "TRUE"
      ],
      "text/latex": [
       "TRUE"
      ],
      "text/markdown": [
       "TRUE"
      ],
      "text/plain": [
       "[1] TRUE"
      ]
     },
     "metadata": {},
     "output_type": "display_data"
    },
    {
     "data": {
      "text/html": [
       "FALSE"
      ],
      "text/latex": [
       "FALSE"
      ],
      "text/markdown": [
       "FALSE"
      ],
      "text/plain": [
       "[1] FALSE"
      ]
     },
     "metadata": {},
     "output_type": "display_data"
    }
   ],
   "source": [
    "is.numeric(1.5)\n",
    "is.numeric(\"1.5\")"
   ]
  },
  {
   "cell_type": "markdown",
   "id": "a5dda9c7-af0b-40d5-bde2-9aa633253dab",
   "metadata": {},
   "source": [
    "論理値型は比較演算子を用いた際の結果の値にも使われます。"
   ]
  },
  {
   "cell_type": "code",
   "execution_count": 36,
   "id": "ea944e0a-e21d-4e29-934e-cfe65db95875",
   "metadata": {},
   "outputs": [
    {
     "data": {
      "text/html": [
       "FALSE"
      ],
      "text/latex": [
       "FALSE"
      ],
      "text/markdown": [
       "FALSE"
      ],
      "text/plain": [
       "[1] FALSE"
      ]
     },
     "metadata": {},
     "output_type": "display_data"
    },
    {
     "data": {
      "text/html": [
       "TRUE"
      ],
      "text/latex": [
       "TRUE"
      ],
      "text/markdown": [
       "TRUE"
      ],
      "text/plain": [
       "[1] TRUE"
      ]
     },
     "metadata": {},
     "output_type": "display_data"
    }
   ],
   "source": [
    "1>2\n",
    "1==1"
   ]
  },
  {
   "cell_type": "markdown",
   "id": "1a9d03bb-85a2-4004-b83c-ef2341036fdc",
   "metadata": {},
   "source": [
    "上記の例の>や==などは比較演算子と呼ばれる。  \n",
    "Rで用いられる比較演算子には以下のようなものがある。"
   ]
  },
  {
   "cell_type": "markdown",
   "id": "8d7c9214-6ab9-48d5-bcaf-d1a37f6c3d6f",
   "metadata": {},
   "source": [
    "| 演算子 | 構文 | 意味 |\n",
    "|:------:|:------:|:----------------|\n",
    "| `>` | `x > y` | xはyより大きいか |\n",
    "| `>=` | `x >= y` | xはy以上か |\n",
    "| `<` | `x < y` | xはyより小さいか |\n",
    "| `<=` | `x <= y` | xはy以下か |\n",
    "| `==` | `x == y` | xとyは等しいか |\n",
    "| `!=` | `x != y` | xとyは等しくないか |\n",
    "| `%in%` | `x %in% y` | xはyに含まれるか |\n"
   ]
  },
  {
   "cell_type": "markdown",
   "id": "ad820c9d-4539-4d5f-8b4a-60f62fc8f3fd",
   "metadata": {},
   "source": [
    "### <span style=\"color:red\"> 練習2 </span>\n",
    "次の2つの式のうち、どちらが大きいかを **R** を使って調べなさい。\n",
    "\n",
    "$$\n",
    "\\frac{2^3 + \\sqrt{7.9}}{e^2}\n",
    "\\quad と \\quad\n",
    "\\frac{9 - \\sqrt[3]{16}}{\\pi}\n",
    "$$"
   ]
  },
  {
   "cell_type": "markdown",
   "id": "81d34b10-ddeb-4252-825e-5c70aab01f03",
   "metadata": {},
   "source": [
    "### データ型の変換"
   ]
  },
  {
   "cell_type": "markdown",
   "id": "fd8df1ca-af08-4624-9e1c-7ac322fde85a",
   "metadata": {},
   "source": [
    "Rのデータ型は交互変換が可能である。例えば、数値型を文字列型に変更したり、数値列を論理値型に変換したりすることができる。  \n",
    "データの型を変換する関数は `as`系の関数を利用する。`as`系の関数は例えば以下のようなものがあります。"
   ]
  },
  {
   "cell_type": "markdown",
   "id": "e04131d7-ad70-4146-aec6-e99411f19b89",
   "metadata": {},
   "source": [
    "| 関数 | 意味 |\n",
    "|:----------------|:----------------------|\n",
    "| `as.numeric` | 数値型に変換する |\n",
    "| `as.character` | 文字列型に変換する |\n",
    "| `as.logical` | 論理値型に変換する |\n"
   ]
  },
  {
   "cell_type": "code",
   "execution_count": 67,
   "id": "42c574cb-4970-48a6-afc5-334a94fb20d9",
   "metadata": {},
   "outputs": [
    {
     "data": {
      "text/html": [
       "1.5"
      ],
      "text/latex": [
       "1.5"
      ],
      "text/markdown": [
       "1.5"
      ],
      "text/plain": [
       "[1] 1.5"
      ]
     },
     "metadata": {},
     "output_type": "display_data"
    },
    {
     "name": "stderr",
     "output_type": "stream",
     "text": [
      "Warning message:\n",
      "“強制変換により NA が生成されました”\n"
     ]
    },
    {
     "data": {
      "text/html": [
       "&lt;NA&gt;"
      ],
      "text/latex": [
       "<NA>"
      ],
      "text/markdown": [
       "&lt;NA&gt;"
      ],
      "text/plain": [
       "[1] NA"
      ]
     },
     "metadata": {},
     "output_type": "display_data"
    },
    {
     "data": {
      "text/html": [
       "'9.3'"
      ],
      "text/latex": [
       "'9.3'"
      ],
      "text/markdown": [
       "'9.3'"
      ],
      "text/plain": [
       "[1] \"9.3\""
      ]
     },
     "metadata": {},
     "output_type": "display_data"
    },
    {
     "data": {
      "text/html": [
       "TRUE"
      ],
      "text/latex": [
       "TRUE"
      ],
      "text/markdown": [
       "TRUE"
      ],
      "text/plain": [
       "[1] TRUE"
      ]
     },
     "metadata": {},
     "output_type": "display_data"
    },
    {
     "data": {
      "text/html": [
       "FALSE"
      ],
      "text/latex": [
       "FALSE"
      ],
      "text/markdown": [
       "FALSE"
      ],
      "text/plain": [
       "[1] FALSE"
      ]
     },
     "metadata": {},
     "output_type": "display_data"
    },
    {
     "data": {
      "text/html": [
       "0"
      ],
      "text/latex": [
       "0"
      ],
      "text/markdown": [
       "0"
      ],
      "text/plain": [
       "[1] 0"
      ]
     },
     "metadata": {},
     "output_type": "display_data"
    }
   ],
   "source": [
    "as.numeric(\"1.5\")\n",
    "as.numeric(\"理科大\")\n",
    "as.character(9.3)\n",
    "as.logical(1)\n",
    "as.logical(0)\n",
    "as.numeric(F)"
   ]
  },
  {
   "cell_type": "markdown",
   "id": "7f40ae27-c9e4-42f4-b8e0-c062ae5cb1d2",
   "metadata": {},
   "source": [
    "## 1.2 変数"
   ]
  },
  {
   "cell_type": "markdown",
   "id": "bb0ac6b1-38de-49b8-806d-1f83840e2a70",
   "metadata": {},
   "source": [
    "変数は、データを格納するための箱であり、最初にデータを割り当てられた瞬間に作成されます。変数にデータを割り当てるには代入演算子（例えば、`<-`）を使用します。  \n",
    "次は変数xに値1を代入する例です。このときの`x`を変数名と呼んだりします。  \n",
    "Rのどのようなデータでも変数に代入することができます。"
   ]
  },
  {
   "cell_type": "code",
   "execution_count": 51,
   "id": "64a7a7ca-ccb8-49e5-9f83-a468e03c298e",
   "metadata": {},
   "outputs": [
    {
     "data": {
      "text/html": [
       "1"
      ],
      "text/latex": [
       "1"
      ],
      "text/markdown": [
       "1"
      ],
      "text/plain": [
       "[1] 1"
      ]
     },
     "metadata": {},
     "output_type": "display_data"
    },
    {
     "data": {
      "text/html": [
       "'理科大'"
      ],
      "text/latex": [
       "'理科大'"
      ],
      "text/markdown": [
       "'理科大'"
      ],
      "text/plain": [
       "[1] \"理科大\""
      ]
     },
     "metadata": {},
     "output_type": "display_data"
    },
    {
     "data": {
      "text/html": [
       "TRUE"
      ],
      "text/latex": [
       "TRUE"
      ],
      "text/markdown": [
       "TRUE"
      ],
      "text/plain": [
       "[1] TRUE"
      ]
     },
     "metadata": {},
     "output_type": "display_data"
    }
   ],
   "source": [
    "x <- 1\n",
    "x\n",
    "y <- \"理科大\"\n",
    "y\n",
    "z <- TRUE\n",
    "z"
   ]
  },
  {
   "cell_type": "markdown",
   "id": "ca9279ce-42a0-4452-a7ef-16d604603c05",
   "metadata": {},
   "source": [
    "#### 変数名のルール\n",
    "変数名の付け方にはいくつかルールがあります。  \n",
    "* 変数名は文字で始まる必要があり、文字、数字、ピリオド（.）、アンダースコア（_）の組み合わせにすることができます。  \n",
    "  ピリオド（.）で始まる場合、その後に数字を続けることはできません\n",
    "* 変数名は数字またはアンダースコア（_）で始まることはできません\n",
    "* 変数名は大文字と小文字が区別されます（sample、Sample、SAMPLEは3つの異なる変数です）\n",
    "* 予約語は変数として使用できません（TRUE、FALSE、NULLなど）"
   ]
  },
  {
   "cell_type": "code",
   "execution_count": 8,
   "id": "fc78f72f-a0ce-4791-9113-854f116553e5",
   "metadata": {},
   "outputs": [
    {
     "ename": "ERROR",
     "evalue": "Error in parse(text = input): <text>:2:2: 想定外の入力です\n1: .1 <- 3\n2: 2_\n    ^\n",
     "output_type": "error",
     "traceback": [
      "Error in parse(text = input): <text>:2:2: 想定外の入力です\n1: .1 <- 3\n2: 2_\n    ^\nTraceback:\n"
     ]
    }
   ],
   "source": [
    ".1 <- 3\n",
    "2_3 <- 6\n",
    "TRUE <- 4"
   ]
  },
  {
   "cell_type": "markdown",
   "id": "95606449-86c6-4fe8-b809-235ed1f3d646",
   "metadata": {},
   "source": [
    "#### 変数の上書き\n",
    "変数は次の例のように代入により上書きできます。"
   ]
  },
  {
   "cell_type": "code",
   "execution_count": 10,
   "id": "446eae5f-ff17-4600-a6f1-f6b902fb40df",
   "metadata": {},
   "outputs": [
    {
     "data": {
      "text/html": [
       "1"
      ],
      "text/latex": [
       "1"
      ],
      "text/markdown": [
       "1"
      ],
      "text/plain": [
       "[1] 1"
      ]
     },
     "metadata": {},
     "output_type": "display_data"
    },
    {
     "data": {
      "text/html": [
       "'TUS'"
      ],
      "text/latex": [
       "'TUS'"
      ],
      "text/markdown": [
       "'TUS'"
      ],
      "text/plain": [
       "[1] \"TUS\""
      ]
     },
     "metadata": {},
     "output_type": "display_data"
    }
   ],
   "source": [
    "x <- 1\n",
    "x\n",
    "x <- \"TUS\"\n",
    "x"
   ]
  },
  {
   "cell_type": "markdown",
   "id": "9e38c9a8-0bc6-4929-9630-02ed48b3d919",
   "metadata": {},
   "source": [
    "### 変数型"
   ]
  },
  {
   "cell_type": "markdown",
   "id": "43590d1c-bb5e-44ae-8650-238a4a63150d",
   "metadata": {},
   "source": [
    "データと同様に、変数にもさまざまな型が存在します。  \n",
    "例えば：  \n",
    "* ベクトル（Vector）\n",
    "* 行列（Matrix）\n",
    "* 配列（Array）\n",
    "* リスト（List）\n",
    "* データフレーム（Data Frame）"
   ]
  },
  {
   "cell_type": "markdown",
   "id": "07872c0d-e0c3-4808-ba54-a2cb06205192",
   "metadata": {},
   "source": [
    "### 1.2.1 ベクトル"
   ]
  },
  {
   "cell_type": "markdown",
   "id": "7bdbc37b-9d66-4186-9a89-e587cc1fdf0d",
   "metadata": {},
   "source": [
    "ベクトルは1次元の配列で、数値や文字や論理値を要素として持つことができます。  \n",
    "`c()`という関数を使って作成できます。"
   ]
  },
  {
   "cell_type": "code",
   "execution_count": 20,
   "id": "014b32b6-d5f4-4abf-ba04-23766114a7ed",
   "metadata": {},
   "outputs": [
    {
     "data": {
      "text/html": [
       "<style>\n",
       ".list-inline {list-style: none; margin:0; padding: 0}\n",
       ".list-inline>li {display: inline-block}\n",
       ".list-inline>li:not(:last-child)::after {content: \"\\00b7\"; padding: 0 .5ex}\n",
       "</style>\n",
       "<ol class=list-inline><li>-1</li><li>0</li><li>1</li><li>2</li></ol>\n"
      ],
      "text/latex": [
       "\\begin{enumerate*}\n",
       "\\item -1\n",
       "\\item 0\n",
       "\\item 1\n",
       "\\item 2\n",
       "\\end{enumerate*}\n"
      ],
      "text/markdown": [
       "1. -1\n",
       "2. 0\n",
       "3. 1\n",
       "4. 2\n",
       "\n",
       "\n"
      ],
      "text/plain": [
       "[1] -1  0  1  2"
      ]
     },
     "metadata": {},
     "output_type": "display_data"
    },
    {
     "data": {
      "text/html": [
       "<style>\n",
       ".list-inline {list-style: none; margin:0; padding: 0}\n",
       ".list-inline>li {display: inline-block}\n",
       ".list-inline>li:not(:last-child)::after {content: \"\\00b7\"; padding: 0 .5ex}\n",
       "</style>\n",
       "<ol class=list-inline><li>'Alice'</li><li>'Bob'</li><li>'Chen'</li></ol>\n"
      ],
      "text/latex": [
       "\\begin{enumerate*}\n",
       "\\item 'Alice'\n",
       "\\item 'Bob'\n",
       "\\item 'Chen'\n",
       "\\end{enumerate*}\n"
      ],
      "text/markdown": [
       "1. 'Alice'\n",
       "2. 'Bob'\n",
       "3. 'Chen'\n",
       "\n",
       "\n"
      ],
      "text/plain": [
       "[1] \"Alice\" \"Bob\"   \"Chen\" "
      ]
     },
     "metadata": {},
     "output_type": "display_data"
    },
    {
     "data": {
      "text/html": [
       "<style>\n",
       ".list-inline {list-style: none; margin:0; padding: 0}\n",
       ".list-inline>li {display: inline-block}\n",
       ".list-inline>li:not(:last-child)::after {content: \"\\00b7\"; padding: 0 .5ex}\n",
       "</style>\n",
       "<ol class=list-inline><li>TRUE</li><li>TRUE</li><li>FALSE</li></ol>\n"
      ],
      "text/latex": [
       "\\begin{enumerate*}\n",
       "\\item TRUE\n",
       "\\item TRUE\n",
       "\\item FALSE\n",
       "\\end{enumerate*}\n"
      ],
      "text/markdown": [
       "1. TRUE\n",
       "2. TRUE\n",
       "3. FALSE\n",
       "\n",
       "\n"
      ],
      "text/plain": [
       "[1]  TRUE  TRUE FALSE"
      ]
     },
     "metadata": {},
     "output_type": "display_data"
    },
    {
     "data": {
      "text/html": [
       "<style>\n",
       ".list-inline {list-style: none; margin:0; padding: 0}\n",
       ".list-inline>li {display: inline-block}\n",
       ".list-inline>li:not(:last-child)::after {content: \"\\00b7\"; padding: 0 .5ex}\n",
       "</style>\n",
       "<ol class=list-inline><li>3</li><li>4</li></ol>\n"
      ],
      "text/latex": [
       "\\begin{enumerate*}\n",
       "\\item 3\n",
       "\\item 4\n",
       "\\end{enumerate*}\n"
      ],
      "text/markdown": [
       "1. 3\n",
       "2. 4\n",
       "\n",
       "\n"
      ],
      "text/plain": [
       "[1] 3 4"
      ]
     },
     "metadata": {},
     "output_type": "display_data"
    },
    {
     "data": {
      "text/html": [
       "<style>\n",
       ".list-inline {list-style: none; margin:0; padding: 0}\n",
       ".list-inline>li {display: inline-block}\n",
       ".list-inline>li:not(:last-child)::after {content: \"\\00b7\"; padding: 0 .5ex}\n",
       "</style>\n",
       "<ol class=list-inline><li>-1</li><li>0</li><li>1</li><li>2</li><li>3</li><li>4</li></ol>\n"
      ],
      "text/latex": [
       "\\begin{enumerate*}\n",
       "\\item -1\n",
       "\\item 0\n",
       "\\item 1\n",
       "\\item 2\n",
       "\\item 3\n",
       "\\item 4\n",
       "\\end{enumerate*}\n"
      ],
      "text/markdown": [
       "1. -1\n",
       "2. 0\n",
       "3. 1\n",
       "4. 2\n",
       "5. 3\n",
       "6. 4\n",
       "\n",
       "\n"
      ],
      "text/plain": [
       "[1] -1  0  1  2  3  4"
      ]
     },
     "metadata": {},
     "output_type": "display_data"
    }
   ],
   "source": [
    "a <- c(-1, 0, 1, 2)\n",
    "a\n",
    "\n",
    "b <- c(\"Alice\", \"Bob\", \"Chen\")\n",
    "b\n",
    "\n",
    "c <- c(TRUE, TRUE, FALSE)\n",
    "c\n",
    "\n",
    "# c() の中にベクトルを入れて、ベクトルを作ることもできます。\n",
    "d <- c(3, 4)\n",
    "d\n",
    "e <- c(a,d)\n",
    "e"
   ]
  },
  {
   "cell_type": "markdown",
   "id": "1f2bf179-8a77-4da5-849c-a0f4143fde01",
   "metadata": {},
   "source": [
    "`length()`関数を使うと、ベクトルの次元が返されます。"
   ]
  },
  {
   "cell_type": "code",
   "execution_count": 45,
   "id": "ee859275-6262-4e31-8f72-ef78f98b355b",
   "metadata": {},
   "outputs": [
    {
     "data": {
      "text/html": [
       "6"
      ],
      "text/latex": [
       "6"
      ],
      "text/markdown": [
       "6"
      ],
      "text/plain": [
       "[1] 6"
      ]
     },
     "metadata": {},
     "output_type": "display_data"
    },
    {
     "data": {
      "text/html": [
       "3"
      ],
      "text/latex": [
       "3"
      ],
      "text/markdown": [
       "3"
      ],
      "text/plain": [
       "[1] 3"
      ]
     },
     "metadata": {},
     "output_type": "display_data"
    },
    {
     "data": {
      "text/html": [
       "3"
      ],
      "text/latex": [
       "3"
      ],
      "text/markdown": [
       "3"
      ],
      "text/plain": [
       "[1] 3"
      ]
     },
     "metadata": {},
     "output_type": "display_data"
    },
    {
     "data": {
      "text/html": [
       "2"
      ],
      "text/latex": [
       "2"
      ],
      "text/markdown": [
       "2"
      ],
      "text/plain": [
       "[1] 2"
      ]
     },
     "metadata": {},
     "output_type": "display_data"
    }
   ],
   "source": [
    "length(a)\n",
    "length(b)\n",
    "length(c)\n",
    "length(d)"
   ]
  },
  {
   "cell_type": "markdown",
   "id": "4026d12e-a10f-47bf-bb07-0b7f82e31a5b",
   "metadata": {},
   "source": [
    "ベクトル内の各要素は、全て同じ型の値になります。  \n",
    "上の例だと `a` は数値型ベクトル、`b` は文字型ベクトル、`c` は論理値型ベクトルです。  \n",
    "ベクトルに含まれる要素は、全て同じ型でなければなりません。  \n",
    "もし `c()` の中に違う型の値を混ぜる場合、全ての要素が同じ型になるように、要素の値が勝手に変換されます。"
   ]
  },
  {
   "cell_type": "code",
   "execution_count": 15,
   "id": "e4a54020-ca75-4cef-99a4-bcbc8c1b85ae",
   "metadata": {},
   "outputs": [
    {
     "data": {
      "text/html": [
       "<style>\n",
       ".list-inline {list-style: none; margin:0; padding: 0}\n",
       ".list-inline>li {display: inline-block}\n",
       ".list-inline>li:not(:last-child)::after {content: \"\\00b7\"; padding: 0 .5ex}\n",
       "</style>\n",
       "<ol class=list-inline><li>0</li><li>1</li><li>0</li></ol>\n"
      ],
      "text/latex": [
       "\\begin{enumerate*}\n",
       "\\item 0\n",
       "\\item 1\n",
       "\\item 0\n",
       "\\end{enumerate*}\n"
      ],
      "text/markdown": [
       "1. 0\n",
       "2. 1\n",
       "3. 0\n",
       "\n",
       "\n"
      ],
      "text/plain": [
       "[1] 0 1 0"
      ]
     },
     "metadata": {},
     "output_type": "display_data"
    }
   ],
   "source": [
    "a <- c(0, TRUE, FALSE)\n",
    "a\n",
    "## 全ての要素が数値型になっています"
   ]
  },
  {
   "cell_type": "code",
   "execution_count": 16,
   "id": "7865d561-ffe6-4703-9ce6-45675dca7023",
   "metadata": {},
   "outputs": [
    {
     "data": {
      "text/html": [
       "<style>\n",
       ".list-inline {list-style: none; margin:0; padding: 0}\n",
       ".list-inline>li {display: inline-block}\n",
       ".list-inline>li:not(:last-child)::after {content: \"\\00b7\"; padding: 0 .5ex}\n",
       "</style>\n",
       "<ol class=list-inline><li>'1'</li><li>'A'</li></ol>\n"
      ],
      "text/latex": [
       "\\begin{enumerate*}\n",
       "\\item '1'\n",
       "\\item 'A'\n",
       "\\end{enumerate*}\n"
      ],
      "text/markdown": [
       "1. '1'\n",
       "2. 'A'\n",
       "\n",
       "\n"
      ],
      "text/plain": [
       "[1] \"1\" \"A\""
      ]
     },
     "metadata": {},
     "output_type": "display_data"
    }
   ],
   "source": [
    "b <- c(1, \"A\")\n",
    "b\n",
    "## 全ての要素が文字列型になっています"
   ]
  },
  {
   "cell_type": "markdown",
   "id": "fbc189df-1ed8-499c-87c5-d0b439cb8a66",
   "metadata": {},
   "source": [
    "### 数値型ベクトル\n",
    "ベクトル内のすべての要素が数値型データである場合、そのベクトルは「数値型ベクトル」と呼ばれます。  "
   ]
  },
  {
   "cell_type": "markdown",
   "id": "c21ebee6-0a1e-41f3-9c44-4d8ab1236c3f",
   "metadata": {},
   "source": [
    "コロン(:)を使うと値が連続する数値型ベクトルが作れます。  \n",
    "この場合、コロンの前後に最初の数値と終わりの数値を指定します。"
   ]
  },
  {
   "cell_type": "code",
   "execution_count": 17,
   "id": "d98782ee-edc3-4d51-9ee1-331cfd781ccb",
   "metadata": {},
   "outputs": [
    {
     "data": {
      "text/html": [
       "<style>\n",
       ".list-inline {list-style: none; margin:0; padding: 0}\n",
       ".list-inline>li {display: inline-block}\n",
       ".list-inline>li:not(:last-child)::after {content: \"\\00b7\"; padding: 0 .5ex}\n",
       "</style>\n",
       "<ol class=list-inline><li>3</li><li>4</li><li>5</li><li>6</li><li>7</li><li>8</li></ol>\n"
      ],
      "text/latex": [
       "\\begin{enumerate*}\n",
       "\\item 3\n",
       "\\item 4\n",
       "\\item 5\n",
       "\\item 6\n",
       "\\item 7\n",
       "\\item 8\n",
       "\\end{enumerate*}\n"
      ],
      "text/markdown": [
       "1. 3\n",
       "2. 4\n",
       "3. 5\n",
       "4. 6\n",
       "5. 7\n",
       "6. 8\n",
       "\n",
       "\n"
      ],
      "text/plain": [
       "[1] 3 4 5 6 7 8"
      ]
     },
     "metadata": {},
     "output_type": "display_data"
    },
    {
     "data": {
      "text/html": [
       "<style>\n",
       ".list-inline {list-style: none; margin:0; padding: 0}\n",
       ".list-inline>li {display: inline-block}\n",
       ".list-inline>li:not(:last-child)::after {content: \"\\00b7\"; padding: 0 .5ex}\n",
       "</style>\n",
       "<ol class=list-inline><li>1</li><li>2</li><li>3</li><li>4</li><li>5</li><li>10</li></ol>\n"
      ],
      "text/latex": [
       "\\begin{enumerate*}\n",
       "\\item 1\n",
       "\\item 2\n",
       "\\item 3\n",
       "\\item 4\n",
       "\\item 5\n",
       "\\item 10\n",
       "\\end{enumerate*}\n"
      ],
      "text/markdown": [
       "1. 1\n",
       "2. 2\n",
       "3. 3\n",
       "4. 4\n",
       "5. 5\n",
       "6. 10\n",
       "\n",
       "\n"
      ],
      "text/plain": [
       "[1]  1  2  3  4  5 10"
      ]
     },
     "metadata": {},
     "output_type": "display_data"
    },
    {
     "data": {
      "text/html": [
       "<style>\n",
       ".list-inline {list-style: none; margin:0; padding: 0}\n",
       ".list-inline>li {display: inline-block}\n",
       ".list-inline>li:not(:last-child)::after {content: \"\\00b7\"; padding: 0 .5ex}\n",
       "</style>\n",
       "<ol class=list-inline><li>2</li><li>3</li><li>4</li><li>5</li></ol>\n"
      ],
      "text/latex": [
       "\\begin{enumerate*}\n",
       "\\item 2\n",
       "\\item 3\n",
       "\\item 4\n",
       "\\item 5\n",
       "\\end{enumerate*}\n"
      ],
      "text/markdown": [
       "1. 2\n",
       "2. 3\n",
       "3. 4\n",
       "4. 5\n",
       "\n",
       "\n"
      ],
      "text/plain": [
       "[1] 2 3 4 5"
      ]
     },
     "metadata": {},
     "output_type": "display_data"
    },
    {
     "data": {
      "text/html": [
       "<style>\n",
       ".list-inline {list-style: none; margin:0; padding: 0}\n",
       ".list-inline>li {display: inline-block}\n",
       ".list-inline>li:not(:last-child)::after {content: \"\\00b7\"; padding: 0 .5ex}\n",
       "</style>\n",
       "<ol class=list-inline><li>2</li><li>3</li><li>4</li><li>5</li></ol>\n"
      ],
      "text/latex": [
       "\\begin{enumerate*}\n",
       "\\item 2\n",
       "\\item 3\n",
       "\\item 4\n",
       "\\item 5\n",
       "\\end{enumerate*}\n"
      ],
      "text/markdown": [
       "1. 2\n",
       "2. 3\n",
       "3. 4\n",
       "4. 5\n",
       "\n",
       "\n"
      ],
      "text/plain": [
       "[1] 2 3 4 5"
      ]
     },
     "metadata": {},
     "output_type": "display_data"
    },
    {
     "data": {
      "text/html": [
       "<style>\n",
       ".list-inline {list-style: none; margin:0; padding: 0}\n",
       ".list-inline>li {display: inline-block}\n",
       ".list-inline>li:not(:last-child)::after {content: \"\\00b7\"; padding: 0 .5ex}\n",
       "</style>\n",
       "<ol class=list-inline><li>2</li><li>3</li><li>4</li><li>5</li></ol>\n"
      ],
      "text/latex": [
       "\\begin{enumerate*}\n",
       "\\item 2\n",
       "\\item 3\n",
       "\\item 4\n",
       "\\item 5\n",
       "\\end{enumerate*}\n"
      ],
      "text/markdown": [
       "1. 2\n",
       "2. 3\n",
       "3. 4\n",
       "4. 5\n",
       "\n",
       "\n"
      ],
      "text/plain": [
       "[1] 2 3 4 5"
      ]
     },
     "metadata": {},
     "output_type": "display_data"
    }
   ],
   "source": [
    "# コロンを使った数値型ベクトルの作成\n",
    "a <- 3:8\n",
    "a\n",
    "\n",
    "b <- c(1:5, 10)\n",
    "b\n",
    "\n",
    "# ちなみに、以下の3つはどれも同じことです。\n",
    "a <- 2:5\n",
    "a\n",
    "\n",
    "a <- c(2:5)\n",
    "a\n",
    "\n",
    "a <- c(2, 3, 4, 5)\n",
    "a"
   ]
  },
  {
   "cell_type": "markdown",
   "id": "6142f9bb-7d01-4c15-b94a-c0834a62bdd9",
   "metadata": {},
   "source": [
    "また、連続する数値ベクトルを作成するための関数として、`seq()`関数があります。    \n",
    "使い方：   \n",
    "間隔を指定する場合：`seq(最初の数, 最後の数, 間隔)`  \n",
    "項数を指定する場合：`seq(最初の数, 最後の数, length=項数)`"
   ]
  },
  {
   "cell_type": "code",
   "execution_count": 26,
   "id": "4ee53aad-1041-47d5-9945-673c0781576c",
   "metadata": {},
   "outputs": [
    {
     "data": {
      "text/html": [
       "<style>\n",
       ".list-inline {list-style: none; margin:0; padding: 0}\n",
       ".list-inline>li {display: inline-block}\n",
       ".list-inline>li:not(:last-child)::after {content: \"\\00b7\"; padding: 0 .5ex}\n",
       "</style>\n",
       "<ol class=list-inline><li>1</li><li>2</li><li>3</li><li>4</li><li>5</li></ol>\n"
      ],
      "text/latex": [
       "\\begin{enumerate*}\n",
       "\\item 1\n",
       "\\item 2\n",
       "\\item 3\n",
       "\\item 4\n",
       "\\item 5\n",
       "\\end{enumerate*}\n"
      ],
      "text/markdown": [
       "1. 1\n",
       "2. 2\n",
       "3. 3\n",
       "4. 4\n",
       "5. 5\n",
       "\n",
       "\n"
      ],
      "text/plain": [
       "[1] 1 2 3 4 5"
      ]
     },
     "metadata": {},
     "output_type": "display_data"
    },
    {
     "data": {
      "text/html": [
       "<style>\n",
       ".list-inline {list-style: none; margin:0; padding: 0}\n",
       ".list-inline>li {display: inline-block}\n",
       ".list-inline>li:not(:last-child)::after {content: \"\\00b7\"; padding: 0 .5ex}\n",
       "</style>\n",
       "<ol class=list-inline><li>2</li><li>3</li><li>4</li><li>5</li><li>6</li><li>7</li><li>8</li><li>9</li><li>10</li></ol>\n"
      ],
      "text/latex": [
       "\\begin{enumerate*}\n",
       "\\item 2\n",
       "\\item 3\n",
       "\\item 4\n",
       "\\item 5\n",
       "\\item 6\n",
       "\\item 7\n",
       "\\item 8\n",
       "\\item 9\n",
       "\\item 10\n",
       "\\end{enumerate*}\n"
      ],
      "text/markdown": [
       "1. 2\n",
       "2. 3\n",
       "3. 4\n",
       "4. 5\n",
       "5. 6\n",
       "6. 7\n",
       "7. 8\n",
       "8. 9\n",
       "9. 10\n",
       "\n",
       "\n"
      ],
      "text/plain": [
       "[1]  2  3  4  5  6  7  8  9 10"
      ]
     },
     "metadata": {},
     "output_type": "display_data"
    },
    {
     "data": {
      "text/html": [
       "<style>\n",
       ".list-inline {list-style: none; margin:0; padding: 0}\n",
       ".list-inline>li {display: inline-block}\n",
       ".list-inline>li:not(:last-child)::after {content: \"\\00b7\"; padding: 0 .5ex}\n",
       "</style>\n",
       "<ol class=list-inline><li>2</li><li>4</li><li>6</li><li>8</li><li>10</li></ol>\n"
      ],
      "text/latex": [
       "\\begin{enumerate*}\n",
       "\\item 2\n",
       "\\item 4\n",
       "\\item 6\n",
       "\\item 8\n",
       "\\item 10\n",
       "\\end{enumerate*}\n"
      ],
      "text/markdown": [
       "1. 2\n",
       "2. 4\n",
       "3. 6\n",
       "4. 8\n",
       "5. 10\n",
       "\n",
       "\n"
      ],
      "text/plain": [
       "[1]  2  4  6  8 10"
      ]
     },
     "metadata": {},
     "output_type": "display_data"
    },
    {
     "data": {
      "text/html": [
       "<style>\n",
       ".list-inline {list-style: none; margin:0; padding: 0}\n",
       ".list-inline>li {display: inline-block}\n",
       ".list-inline>li:not(:last-child)::after {content: \"\\00b7\"; padding: 0 .5ex}\n",
       "</style>\n",
       "<ol class=list-inline><li>0.1</li><li>0.11</li><li>0.12</li><li>0.13</li><li>0.14</li><li>0.15</li><li>0.16</li><li>0.17</li><li>0.18</li><li>0.19</li><li>0.2</li></ol>\n"
      ],
      "text/latex": [
       "\\begin{enumerate*}\n",
       "\\item 0.1\n",
       "\\item 0.11\n",
       "\\item 0.12\n",
       "\\item 0.13\n",
       "\\item 0.14\n",
       "\\item 0.15\n",
       "\\item 0.16\n",
       "\\item 0.17\n",
       "\\item 0.18\n",
       "\\item 0.19\n",
       "\\item 0.2\n",
       "\\end{enumerate*}\n"
      ],
      "text/markdown": [
       "1. 0.1\n",
       "2. 0.11\n",
       "3. 0.12\n",
       "4. 0.13\n",
       "5. 0.14\n",
       "6. 0.15\n",
       "7. 0.16\n",
       "8. 0.17\n",
       "9. 0.18\n",
       "10. 0.19\n",
       "11. 0.2\n",
       "\n",
       "\n"
      ],
      "text/plain": [
       " [1] 0.10 0.11 0.12 0.13 0.14 0.15 0.16 0.17 0.18 0.19 0.20"
      ]
     },
     "metadata": {},
     "output_type": "display_data"
    },
    {
     "data": {
      "text/html": [
       "<style>\n",
       ".list-inline {list-style: none; margin:0; padding: 0}\n",
       ".list-inline>li {display: inline-block}\n",
       ".list-inline>li:not(:last-child)::after {content: \"\\00b7\"; padding: 0 .5ex}\n",
       "</style>\n",
       "<ol class=list-inline><li>1</li><li>1.47368421052632</li><li>1.94736842105263</li><li>2.42105263157895</li><li>2.89473684210526</li><li>3.36842105263158</li><li>3.8421052631579</li><li>4.31578947368421</li><li>4.78947368421053</li><li>5.26315789473684</li><li>5.73684210526316</li><li>6.21052631578947</li><li>6.68421052631579</li><li>7.1578947368421</li><li>7.63157894736842</li><li>8.10526315789474</li><li>8.57894736842105</li><li>9.05263157894737</li><li>9.52631578947368</li><li>10</li></ol>\n"
      ],
      "text/latex": [
       "\\begin{enumerate*}\n",
       "\\item 1\n",
       "\\item 1.47368421052632\n",
       "\\item 1.94736842105263\n",
       "\\item 2.42105263157895\n",
       "\\item 2.89473684210526\n",
       "\\item 3.36842105263158\n",
       "\\item 3.8421052631579\n",
       "\\item 4.31578947368421\n",
       "\\item 4.78947368421053\n",
       "\\item 5.26315789473684\n",
       "\\item 5.73684210526316\n",
       "\\item 6.21052631578947\n",
       "\\item 6.68421052631579\n",
       "\\item 7.1578947368421\n",
       "\\item 7.63157894736842\n",
       "\\item 8.10526315789474\n",
       "\\item 8.57894736842105\n",
       "\\item 9.05263157894737\n",
       "\\item 9.52631578947368\n",
       "\\item 10\n",
       "\\end{enumerate*}\n"
      ],
      "text/markdown": [
       "1. 1\n",
       "2. 1.47368421052632\n",
       "3. 1.94736842105263\n",
       "4. 2.42105263157895\n",
       "5. 2.89473684210526\n",
       "6. 3.36842105263158\n",
       "7. 3.8421052631579\n",
       "8. 4.31578947368421\n",
       "9. 4.78947368421053\n",
       "10. 5.26315789473684\n",
       "11. 5.73684210526316\n",
       "12. 6.21052631578947\n",
       "13. 6.68421052631579\n",
       "14. 7.1578947368421\n",
       "15. 7.63157894736842\n",
       "16. 8.10526315789474\n",
       "17. 8.57894736842105\n",
       "18. 9.05263157894737\n",
       "19. 9.52631578947368\n",
       "20. 10\n",
       "\n",
       "\n"
      ],
      "text/plain": [
       " [1]  1.000000  1.473684  1.947368  2.421053  2.894737  3.368421  3.842105\n",
       " [8]  4.315789  4.789474  5.263158  5.736842  6.210526  6.684211  7.157895\n",
       "[15]  7.631579  8.105263  8.578947  9.052632  9.526316 10.000000"
      ]
     },
     "metadata": {},
     "output_type": "display_data"
    }
   ],
   "source": [
    "seq(5)　#何も指定しないと、1からのベクトルとなるわけです。\n",
    "seq(2,10) #２つの数値を指定すると、２つの数字の間の整数を要素とするベクトルになります。間隔は1です。\n",
    "seq(2,10,2) #間隔を指定する場合：３つの数字を指定すると、最後の数字は間隔を表します。\n",
    "seq(0.1,0.2,0.01) #小数も使えます。\n",
    "seq(1,10,length=20) #項数を指定する場合：lengthに項数を指定すると、最初の数から最後の数までを、指定した項数で等間隔に分割した数値ベクトルが作成されます。"
   ]
  },
  {
   "cell_type": "markdown",
   "id": "56c5c0e9-2163-4205-9d8c-9054567ad557",
   "metadata": {},
   "source": [
    "数値型ベクトルに対しては、四則演算などの計算を行うことができます。  \n",
    "ベクトルに数を足したり掛けたりした場合、ベクトルの全ての要素にその計算が行われます。"
   ]
  },
  {
   "cell_type": "code",
   "execution_count": 28,
   "id": "6b055148-e3a0-48d8-aa49-9fee0c6de077",
   "metadata": {},
   "outputs": [
    {
     "data": {
      "text/html": [
       "<style>\n",
       ".list-inline {list-style: none; margin:0; padding: 0}\n",
       ".list-inline>li {display: inline-block}\n",
       ".list-inline>li:not(:last-child)::after {content: \"\\00b7\"; padding: 0 .5ex}\n",
       "</style>\n",
       "<ol class=list-inline><li>1</li><li>2</li><li>3</li><li>4</li><li>5</li></ol>\n"
      ],
      "text/latex": [
       "\\begin{enumerate*}\n",
       "\\item 1\n",
       "\\item 2\n",
       "\\item 3\n",
       "\\item 4\n",
       "\\item 5\n",
       "\\end{enumerate*}\n"
      ],
      "text/markdown": [
       "1. 1\n",
       "2. 2\n",
       "3. 3\n",
       "4. 4\n",
       "5. 5\n",
       "\n",
       "\n"
      ],
      "text/plain": [
       "[1] 1 2 3 4 5"
      ]
     },
     "metadata": {},
     "output_type": "display_data"
    },
    {
     "data": {
      "text/html": [
       "<style>\n",
       ".list-inline {list-style: none; margin:0; padding: 0}\n",
       ".list-inline>li {display: inline-block}\n",
       ".list-inline>li:not(:last-child)::after {content: \"\\00b7\"; padding: 0 .5ex}\n",
       "</style>\n",
       "<ol class=list-inline><li>3</li><li>4</li><li>5</li><li>6</li><li>7</li></ol>\n"
      ],
      "text/latex": [
       "\\begin{enumerate*}\n",
       "\\item 3\n",
       "\\item 4\n",
       "\\item 5\n",
       "\\item 6\n",
       "\\item 7\n",
       "\\end{enumerate*}\n"
      ],
      "text/markdown": [
       "1. 3\n",
       "2. 4\n",
       "3. 5\n",
       "4. 6\n",
       "5. 7\n",
       "\n",
       "\n"
      ],
      "text/plain": [
       "[1] 3 4 5 6 7"
      ]
     },
     "metadata": {},
     "output_type": "display_data"
    },
    {
     "data": {
      "text/html": [
       "<style>\n",
       ".list-inline {list-style: none; margin:0; padding: 0}\n",
       ".list-inline>li {display: inline-block}\n",
       ".list-inline>li:not(:last-child)::after {content: \"\\00b7\"; padding: 0 .5ex}\n",
       "</style>\n",
       "<ol class=list-inline><li>3</li><li>6</li><li>9</li><li>12</li><li>15</li></ol>\n"
      ],
      "text/latex": [
       "\\begin{enumerate*}\n",
       "\\item 3\n",
       "\\item 6\n",
       "\\item 9\n",
       "\\item 12\n",
       "\\item 15\n",
       "\\end{enumerate*}\n"
      ],
      "text/markdown": [
       "1. 3\n",
       "2. 6\n",
       "3. 9\n",
       "4. 12\n",
       "5. 15\n",
       "\n",
       "\n"
      ],
      "text/plain": [
       "[1]  3  6  9 12 15"
      ]
     },
     "metadata": {},
     "output_type": "display_data"
    }
   ],
   "source": [
    "x <- 1:5\n",
    "x\n",
    "\n",
    "# x の全ての要素に2が足される\n",
    "x + 2\n",
    "\n",
    "# x の全ての要素が3倍される\n",
    "x * 3"
   ]
  },
  {
   "cell_type": "markdown",
   "id": "56c817d1-7b69-4592-aa76-11f27633762d",
   "metadata": {},
   "source": [
    "ベクトル同士での加減乗除については、  \n",
    "同じ長さのベクトル同士で計算をすると以下のような結果になります。"
   ]
  },
  {
   "cell_type": "code",
   "execution_count": 52,
   "id": "05b4d508-7d5d-4304-b23b-9bcd3907393d",
   "metadata": {},
   "outputs": [
    {
     "data": {
      "text/html": [
       "<style>\n",
       ".list-inline {list-style: none; margin:0; padding: 0}\n",
       ".list-inline>li {display: inline-block}\n",
       ".list-inline>li:not(:last-child)::after {content: \"\\00b7\"; padding: 0 .5ex}\n",
       "</style>\n",
       "<ol class=list-inline><li>1</li><li>3</li><li>7</li><li>3</li></ol>\n"
      ],
      "text/latex": [
       "\\begin{enumerate*}\n",
       "\\item 1\n",
       "\\item 3\n",
       "\\item 7\n",
       "\\item 3\n",
       "\\end{enumerate*}\n"
      ],
      "text/markdown": [
       "1. 1\n",
       "2. 3\n",
       "3. 7\n",
       "4. 3\n",
       "\n",
       "\n"
      ],
      "text/plain": [
       "[1] 1 3 7 3"
      ]
     },
     "metadata": {},
     "output_type": "display_data"
    },
    {
     "data": {
      "text/html": [
       "<style>\n",
       ".list-inline {list-style: none; margin:0; padding: 0}\n",
       ".list-inline>li {display: inline-block}\n",
       ".list-inline>li:not(:last-child)::after {content: \"\\00b7\"; padding: 0 .5ex}\n",
       "</style>\n",
       "<ol class=list-inline><li>0</li><li>2</li><li>12</li><li>-4</li></ol>\n"
      ],
      "text/latex": [
       "\\begin{enumerate*}\n",
       "\\item 0\n",
       "\\item 2\n",
       "\\item 12\n",
       "\\item -4\n",
       "\\end{enumerate*}\n"
      ],
      "text/markdown": [
       "1. 0\n",
       "2. 2\n",
       "3. 12\n",
       "4. -4\n",
       "\n",
       "\n"
      ],
      "text/plain": [
       "[1]  0  2 12 -4"
      ]
     },
     "metadata": {},
     "output_type": "display_data"
    }
   ],
   "source": [
    "a <- c(1, 2, 3, 4)\n",
    "b <- c(0, 1, 4, -1)\n",
    "\n",
    "a + b\n",
    "a * b"
   ]
  },
  {
   "cell_type": "markdown",
   "id": "016aa025-5d4b-40e8-b34a-d0cfcfc262bc",
   "metadata": {},
   "source": [
    "つまり、`a` と `b` の1番目の要素同士の計算、2番目の要素同士の計算、…というやり方で計算が行われます。"
   ]
  },
  {
   "cell_type": "markdown",
   "id": "7574d32e-504c-43cc-a0e9-7e1d50999f97",
   "metadata": {},
   "source": [
    "長さの異なるベクトル同士で計算をした場合、短い方のベクトルの内容が繰り返し（リサイクル）されて計算が行われます。\n",
    "以下の例の場合、`x`は長さ7でyは長さ2です。この場合、`y`の内容がリピート（リサイクル）されて長さ7に合わせられ（`c(1, 8, 1, 8, 1, 8, 1)`になる）、そして計算が行われます。"
   ]
  },
  {
   "cell_type": "code",
   "execution_count": 31,
   "id": "766ca36f-c1af-4f37-8aae-d7f14421a444",
   "metadata": {},
   "outputs": [
    {
     "name": "stderr",
     "output_type": "stream",
     "text": [
      "Warning message in x + y:\n",
      "“長いオブジェクトの長さが短いオブジェクトの長さの倍数になっていません”\n"
     ]
    },
    {
     "data": {
      "text/html": [
       "<style>\n",
       ".list-inline {list-style: none; margin:0; padding: 0}\n",
       ".list-inline>li {display: inline-block}\n",
       ".list-inline>li:not(:last-child)::after {content: \"\\00b7\"; padding: 0 .5ex}\n",
       "</style>\n",
       "<ol class=list-inline><li>2</li><li>9</li><li>2</li><li>9</li><li>2</li><li>9</li><li>2</li></ol>\n"
      ],
      "text/latex": [
       "\\begin{enumerate*}\n",
       "\\item 2\n",
       "\\item 9\n",
       "\\item 2\n",
       "\\item 9\n",
       "\\item 2\n",
       "\\item 9\n",
       "\\item 2\n",
       "\\end{enumerate*}\n"
      ],
      "text/markdown": [
       "1. 2\n",
       "2. 9\n",
       "3. 2\n",
       "4. 9\n",
       "5. 2\n",
       "6. 9\n",
       "7. 2\n",
       "\n",
       "\n"
      ],
      "text/plain": [
       "[1] 2 9 2 9 2 9 2"
      ]
     },
     "metadata": {},
     "output_type": "display_data"
    }
   ],
   "source": [
    "x <- c(1, 1, 1, 1, 1, 1, 1)\n",
    "y <- c(1, 8)\n",
    "z <- x + y\n",
    "z"
   ]
  },
  {
   "cell_type": "markdown",
   "id": "6780a944-7796-4089-b429-3576a6992bd8",
   "metadata": {},
   "source": [
    "### <span style=\"color:red\"> 練習3 </span>\n",
    "\n",
    "以下のような11次元の無リスク金利ベクトルを作成しなさい（変数名は`R`とする）。  \n",
    "`(0.10, 0.11, 0.12, 0.13, 0.14, 0.15, 0.16, 0.17, 0.18, 0.19, 0.20)`  \n",
    "この無リスク金利ベクトルを用いて、1年後に確実に受け取れる100万の現在価値を計算しなさい。結果は小数点第2位まで四捨五入して表示しなさい。"
   ]
  },
  {
   "cell_type": "markdown",
   "id": "77f8adec-ef5e-4174-b3f2-ca7fa474e748",
   "metadata": {},
   "source": [
    "#### ベクトルの要素の操作"
   ]
  },
  {
   "cell_type": "markdown",
   "id": "ed66edfa-5b76-4678-a64f-43ad410b10e3",
   "metadata": {},
   "source": [
    "`names()`関数を使うと、ベクトルの各要素に名前を与えることが可能です。"
   ]
  },
  {
   "cell_type": "code",
   "execution_count": 48,
   "id": "8ac828ab-004f-49b0-940c-dadf770b6733",
   "metadata": {},
   "outputs": [
    {
     "data": {
      "text/html": [
       "<style>\n",
       ".dl-inline {width: auto; margin:0; padding: 0}\n",
       ".dl-inline>dt, .dl-inline>dd {float: none; width: auto; display: inline-block}\n",
       ".dl-inline>dt::after {content: \":\\0020\"; padding-right: .5ex}\n",
       ".dl-inline>dt:not(:first-of-type) {padding-left: .5ex}\n",
       "</style><dl class=dl-inline><dt>north</dt><dd>10</dd><dt>south</dt><dd>20</dd><dt>east</dt><dd>5</dd><dt>west</dt><dd>40</dd></dl>\n"
      ],
      "text/latex": [
       "\\begin{description*}\n",
       "\\item[north] 10\n",
       "\\item[south] 20\n",
       "\\item[east] 5\n",
       "\\item[west] 40\n",
       "\\end{description*}\n"
      ],
      "text/markdown": [
       "north\n",
       ":   10south\n",
       ":   20east\n",
       ":   5west\n",
       ":   40\n",
       "\n"
      ],
      "text/plain": [
       "north south  east  west \n",
       "   10    20     5    40 "
      ]
     },
     "metadata": {},
     "output_type": "display_data"
    },
    {
     "data": {
      "text/html": [
       "<style>\n",
       ".dl-inline {width: auto; margin:0; padding: 0}\n",
       ".dl-inline>dt, .dl-inline>dd {float: none; width: auto; display: inline-block}\n",
       ".dl-inline>dt::after {content: \":\\0020\"; padding-right: .5ex}\n",
       ".dl-inline>dt:not(:first-of-type) {padding-left: .5ex}\n",
       "</style><dl class=dl-inline><dt>Q1</dt><dd>4.5</dd><dt>Q2</dt><dd>20</dd><dt>Q3</dt><dd>50.1</dd></dl>\n"
      ],
      "text/latex": [
       "\\begin{description*}\n",
       "\\item[Q1] 4.5\n",
       "\\item[Q2] 20\n",
       "\\item[Q3] 50.1\n",
       "\\end{description*}\n"
      ],
      "text/markdown": [
       "Q1\n",
       ":   4.5Q2\n",
       ":   20Q3\n",
       ":   50.1\n",
       "\n"
      ],
      "text/plain": [
       "  Q1   Q2   Q3 \n",
       " 4.5 20.0 50.1 "
      ]
     },
     "metadata": {},
     "output_type": "display_data"
    },
    {
     "data": {
      "text/html": [
       "<style>\n",
       ".list-inline {list-style: none; margin:0; padding: 0}\n",
       ".list-inline>li {display: inline-block}\n",
       ".list-inline>li:not(:last-child)::after {content: \"\\00b7\"; padding: 0 .5ex}\n",
       "</style>\n",
       "<ol class=list-inline><li>10</li><li>20</li><li>5</li><li>40</li></ol>\n"
      ],
      "text/latex": [
       "\\begin{enumerate*}\n",
       "\\item 10\n",
       "\\item 20\n",
       "\\item 5\n",
       "\\item 40\n",
       "\\end{enumerate*}\n"
      ],
      "text/markdown": [
       "1. 10\n",
       "2. 20\n",
       "3. 5\n",
       "4. 40\n",
       "\n",
       "\n"
      ],
      "text/plain": [
       "[1] 10 20  5 40"
      ]
     },
     "metadata": {},
     "output_type": "display_data"
    }
   ],
   "source": [
    "# 4つの要素を持つデータ\n",
    "x <- c(10, 20, 5, 40)\n",
    "\n",
    "# names() 関数を使って各要素に名前を与える\n",
    "names(x) <- c(\"north\", \"south\", \"east\", \"west\")\n",
    "\n",
    "x\n",
    "\n",
    "# 名前付きベクトルを作成する別の方法\n",
    "y <- c(\"Q1\" = 4.5, \"Q2\" = 20.0, \"Q3\" = 50.1)\n",
    "y\n",
    "\n",
    "# 名前を消したい場合は NULL を代入する\n",
    "names(x) <- NULL\n",
    "x"
   ]
  },
  {
   "cell_type": "markdown",
   "id": "75041de2-2f5a-4fcd-960c-a7d8bcad33f5",
   "metadata": {},
   "source": [
    "ベクトルが持つ要素を取り出すには角カッコ[]を使って以下のようにします。"
   ]
  },
  {
   "cell_type": "code",
   "execution_count": 50,
   "id": "89038794-7fb1-4baa-bb48-59cc9fdf6cb8",
   "metadata": {},
   "outputs": [
    {
     "data": {
      "text/html": [
       "'a'"
      ],
      "text/latex": [
       "'a'"
      ],
      "text/markdown": [
       "'a'"
      ],
      "text/plain": [
       "[1] \"a\""
      ]
     },
     "metadata": {},
     "output_type": "display_data"
    },
    {
     "data": {
      "text/html": [
       "'c'"
      ],
      "text/latex": [
       "'c'"
      ],
      "text/markdown": [
       "'c'"
      ],
      "text/plain": [
       "[1] \"c\""
      ]
     },
     "metadata": {},
     "output_type": "display_data"
    },
    {
     "data": {
      "text/html": [
       "<style>\n",
       ".list-inline {list-style: none; margin:0; padding: 0}\n",
       ".list-inline>li {display: inline-block}\n",
       ".list-inline>li:not(:last-child)::after {content: \"\\00b7\"; padding: 0 .5ex}\n",
       "</style>\n",
       "<ol class=list-inline><li>'a'</li><li>'c'</li><li>'e'</li></ol>\n"
      ],
      "text/latex": [
       "\\begin{enumerate*}\n",
       "\\item 'a'\n",
       "\\item 'c'\n",
       "\\item 'e'\n",
       "\\end{enumerate*}\n"
      ],
      "text/markdown": [
       "1. 'a'\n",
       "2. 'c'\n",
       "3. 'e'\n",
       "\n",
       "\n"
      ],
      "text/plain": [
       "[1] \"a\" \"c\" \"e\""
      ]
     },
     "metadata": {},
     "output_type": "display_data"
    },
    {
     "data": {
      "text/html": [
       "<style>\n",
       ".list-inline {list-style: none; margin:0; padding: 0}\n",
       ".list-inline>li {display: inline-block}\n",
       ".list-inline>li:not(:last-child)::after {content: \"\\00b7\"; padding: 0 .5ex}\n",
       "</style>\n",
       "<ol class=list-inline><li>'b'</li><li>'c'</li><li>'d'</li></ol>\n"
      ],
      "text/latex": [
       "\\begin{enumerate*}\n",
       "\\item 'b'\n",
       "\\item 'c'\n",
       "\\item 'd'\n",
       "\\end{enumerate*}\n"
      ],
      "text/markdown": [
       "1. 'b'\n",
       "2. 'c'\n",
       "3. 'd'\n",
       "\n",
       "\n"
      ],
      "text/plain": [
       "[1] \"b\" \"c\" \"d\""
      ]
     },
     "metadata": {},
     "output_type": "display_data"
    },
    {
     "data": {
      "text/html": [
       "<strong>Q1:</strong> 4.5"
      ],
      "text/latex": [
       "\\textbf{Q1:} 4.5"
      ],
      "text/markdown": [
       "**Q1:** 4.5"
      ],
      "text/plain": [
       " Q1 \n",
       "4.5 "
      ]
     },
     "metadata": {},
     "output_type": "display_data"
    }
   ],
   "source": [
    "a <- c(\"a\", \"b\", \"c\", \"d\", \"e\", \"f\")\n",
    "\n",
    "## 角カッコの中に1つの整数値を入れると、その番号番目の要素が取り出されます。\n",
    "## 角カッコの中に書かれる数字のことをベクトルのインデックスと呼びます。\n",
    "# １番目の要素を取り出す\n",
    "a[1]\n",
    "\n",
    "# 3番目の要素を取り出す\n",
    "a[3]\n",
    "\n",
    "## 角カッコの中に整数値のベクトルを入れると、その番号に該当する全ての要素が取り出されます。\n",
    "# 1, 3, 5番目の要素を取り出す\n",
    "a[c(1, 3, 5)]\n",
    "\n",
    "## コロンを使うと連続する値を取り出す際に便利です。\n",
    "# 2番目から4番目までの要素を取り出す\n",
    "a[2:4]\n",
    "\n",
    "## 要素の名前がある場合、名前を使って要素を取り出すこともできます。\n",
    "y <- c(\"Q1\" = 4.5, \"Q2\" = 20.0, \"Q3\" = 50.1)\n",
    "y[\"Q1\"]"
   ]
  },
  {
   "cell_type": "markdown",
   "id": "f5ec6971-8296-41ab-8326-db7c5ce112c9",
   "metadata": {},
   "source": [
    "以下のような方法でベクトル内の要素を書き換えることができます。"
   ]
  },
  {
   "cell_type": "code",
   "execution_count": 46,
   "id": "622a6cd3-cfc2-4302-8cd3-19ae2008caf7",
   "metadata": {},
   "outputs": [
    {
     "data": {
      "text/html": [
       "<style>\n",
       ".list-inline {list-style: none; margin:0; padding: 0}\n",
       ".list-inline>li {display: inline-block}\n",
       ".list-inline>li:not(:last-child)::after {content: \"\\00b7\"; padding: 0 .5ex}\n",
       "</style>\n",
       "<ol class=list-inline><li>'a'</li><li>'b'</li><li>'c'</li><li>'d'</li><li>'e'</li><li>'f'</li></ol>\n"
      ],
      "text/latex": [
       "\\begin{enumerate*}\n",
       "\\item 'a'\n",
       "\\item 'b'\n",
       "\\item 'c'\n",
       "\\item 'd'\n",
       "\\item 'e'\n",
       "\\item 'f'\n",
       "\\end{enumerate*}\n"
      ],
      "text/markdown": [
       "1. 'a'\n",
       "2. 'b'\n",
       "3. 'c'\n",
       "4. 'd'\n",
       "5. 'e'\n",
       "6. 'f'\n",
       "\n",
       "\n"
      ],
      "text/plain": [
       "[1] \"a\" \"b\" \"c\" \"d\" \"e\" \"f\""
      ]
     },
     "metadata": {},
     "output_type": "display_data"
    },
    {
     "data": {
      "text/html": [
       "<style>\n",
       ".list-inline {list-style: none; margin:0; padding: 0}\n",
       ".list-inline>li {display: inline-block}\n",
       ".list-inline>li:not(:last-child)::after {content: \"\\00b7\"; padding: 0 .5ex}\n",
       "</style>\n",
       "<ol class=list-inline><li>'1'</li><li>'b'</li><li>'c'</li><li>'d'</li><li>'e'</li><li>'f'</li></ol>\n"
      ],
      "text/latex": [
       "\\begin{enumerate*}\n",
       "\\item '1'\n",
       "\\item 'b'\n",
       "\\item 'c'\n",
       "\\item 'd'\n",
       "\\item 'e'\n",
       "\\item 'f'\n",
       "\\end{enumerate*}\n"
      ],
      "text/markdown": [
       "1. '1'\n",
       "2. 'b'\n",
       "3. 'c'\n",
       "4. 'd'\n",
       "5. 'e'\n",
       "6. 'f'\n",
       "\n",
       "\n"
      ],
      "text/plain": [
       "[1] \"1\" \"b\" \"c\" \"d\" \"e\" \"f\""
      ]
     },
     "metadata": {},
     "output_type": "display_data"
    },
    {
     "data": {
      "text/html": [
       "<style>\n",
       ".list-inline {list-style: none; margin:0; padding: 0}\n",
       ".list-inline>li {display: inline-block}\n",
       ".list-inline>li:not(:last-child)::after {content: \"\\00b7\"; padding: 0 .5ex}\n",
       "</style>\n",
       "<ol class=list-inline><li>'1'</li><li>'N2'</li><li>'N3'</li><li>'d'</li><li>'e'</li><li>'f'</li></ol>\n"
      ],
      "text/latex": [
       "\\begin{enumerate*}\n",
       "\\item '1'\n",
       "\\item 'N2'\n",
       "\\item 'N3'\n",
       "\\item 'd'\n",
       "\\item 'e'\n",
       "\\item 'f'\n",
       "\\end{enumerate*}\n"
      ],
      "text/markdown": [
       "1. '1'\n",
       "2. 'N2'\n",
       "3. 'N3'\n",
       "4. 'd'\n",
       "5. 'e'\n",
       "6. 'f'\n",
       "\n",
       "\n"
      ],
      "text/plain": [
       "[1] \"1\"  \"N2\" \"N3\" \"d\"  \"e\"  \"f\" "
      ]
     },
     "metadata": {},
     "output_type": "display_data"
    },
    {
     "data": {
      "text/html": [
       "<style>\n",
       ".list-inline {list-style: none; margin:0; padding: 0}\n",
       ".list-inline>li {display: inline-block}\n",
       ".list-inline>li:not(:last-child)::after {content: \"\\00b7\"; padding: 0 .5ex}\n",
       "</style>\n",
       "<ol class=list-inline><li>'1'</li><li>'N2'</li><li>'N3'</li><li>'X'</li><li>'X'</li><li>'X'</li></ol>\n"
      ],
      "text/latex": [
       "\\begin{enumerate*}\n",
       "\\item '1'\n",
       "\\item 'N2'\n",
       "\\item 'N3'\n",
       "\\item 'X'\n",
       "\\item 'X'\n",
       "\\item 'X'\n",
       "\\end{enumerate*}\n"
      ],
      "text/markdown": [
       "1. '1'\n",
       "2. 'N2'\n",
       "3. 'N3'\n",
       "4. 'X'\n",
       "5. 'X'\n",
       "6. 'X'\n",
       "\n",
       "\n"
      ],
      "text/plain": [
       "[1] \"1\"  \"N2\" \"N3\" \"X\"  \"X\"  \"X\" "
      ]
     },
     "metadata": {},
     "output_type": "display_data"
    }
   ],
   "source": [
    "a <- c(\"a\", \"b\", \"c\", \"d\", \"e\", \"f\")\n",
    "a\n",
    "\n",
    "a[1] <- \"1\"\n",
    "a\n",
    "\n",
    "a[c(2, 3)] <- c(\"N2\", \"N3\")\n",
    "a\n",
    "\n",
    "a[4:6] <- \"X\"\n",
    "a"
   ]
  },
  {
   "cell_type": "markdown",
   "id": "bb47bd90-cffc-42db-adcc-bb37b51fee0d",
   "metadata": {},
   "source": [
    "存在しない位置の要素に値を代入する場合：3つしか要素がないベクトル `x` に対して、7番目の要素に10という値を代入します。  \n",
    "この場合、7番目の要素には10が正しく代入され、4〜6番目は `NA` という値で埋められます。  \n",
    "`NA`というのは欠損値を表現する際に使われる記号です。Not Available の頭文字に由来。"
   ]
  },
  {
   "cell_type": "code",
   "execution_count": 47,
   "id": "fae57a87-7c92-49e4-94f3-365aa1bca7a2",
   "metadata": {},
   "outputs": [
    {
     "data": {
      "text/html": [
       "<style>\n",
       ".list-inline {list-style: none; margin:0; padding: 0}\n",
       ".list-inline>li {display: inline-block}\n",
       ".list-inline>li:not(:last-child)::after {content: \"\\00b7\"; padding: 0 .5ex}\n",
       "</style>\n",
       "<ol class=list-inline><li>1</li><li>2</li><li>3</li></ol>\n"
      ],
      "text/latex": [
       "\\begin{enumerate*}\n",
       "\\item 1\n",
       "\\item 2\n",
       "\\item 3\n",
       "\\end{enumerate*}\n"
      ],
      "text/markdown": [
       "1. 1\n",
       "2. 2\n",
       "3. 3\n",
       "\n",
       "\n"
      ],
      "text/plain": [
       "[1] 1 2 3"
      ]
     },
     "metadata": {},
     "output_type": "display_data"
    },
    {
     "data": {
      "text/html": [
       "<style>\n",
       ".list-inline {list-style: none; margin:0; padding: 0}\n",
       ".list-inline>li {display: inline-block}\n",
       ".list-inline>li:not(:last-child)::after {content: \"\\00b7\"; padding: 0 .5ex}\n",
       "</style>\n",
       "<ol class=list-inline><li>1</li><li>2</li><li>3</li><li>&lt;NA&gt;</li><li>&lt;NA&gt;</li><li>&lt;NA&gt;</li><li>10</li></ol>\n"
      ],
      "text/latex": [
       "\\begin{enumerate*}\n",
       "\\item 1\n",
       "\\item 2\n",
       "\\item 3\n",
       "\\item <NA>\n",
       "\\item <NA>\n",
       "\\item <NA>\n",
       "\\item 10\n",
       "\\end{enumerate*}\n"
      ],
      "text/markdown": [
       "1. 1\n",
       "2. 2\n",
       "3. 3\n",
       "4. &lt;NA&gt;\n",
       "5. &lt;NA&gt;\n",
       "6. &lt;NA&gt;\n",
       "7. 10\n",
       "\n",
       "\n"
      ],
      "text/plain": [
       "[1]  1  2  3 NA NA NA 10"
      ]
     },
     "metadata": {},
     "output_type": "display_data"
    }
   ],
   "source": [
    "x <- 1:3\n",
    "x\n",
    "\n",
    "x[7] <- 10\n",
    "x"
   ]
  },
  {
   "cell_type": "markdown",
   "id": "aaed5f02-b39f-479b-9d77-a19259bbea22",
   "metadata": {},
   "source": [
    "### <span style=\"color:red\"> 練習4 </span>\n",
    "\n",
    "(1) 下記のようなベクトル（変数名：”country”）を作成しなさい。"
   ]
  },
  {
   "cell_type": "markdown",
   "id": "594d046b-8b1b-41d2-827a-1cba03abac49",
   "metadata": {},
   "source": [
    "| 要素名 | 要素 |\n",
    "|:----------------|:----------------------|\n",
    "| JAPAN | 100 |\n",
    "| CHINA | 150 |\n",
    "| KOREA | 100 |"
   ]
  },
  {
   "attachments": {},
   "cell_type": "markdown",
   "id": "bee96336-3fd2-49f4-b7d6-80cae27472a9",
   "metadata": {},
   "source": [
    "(2) 1番目の要素の数値を120に変更しなさい。"
   ]
  }
 ],
 "metadata": {
  "kernelspec": {
   "display_name": "R",
   "language": "R",
   "name": "ir"
  },
  "language_info": {
   "codemirror_mode": "r",
   "file_extension": ".r",
   "mimetype": "text/x-r-source",
   "name": "R",
   "pygments_lexer": "r",
   "version": "4.4.1"
  }
 },
 "nbformat": 4,
 "nbformat_minor": 5
}
